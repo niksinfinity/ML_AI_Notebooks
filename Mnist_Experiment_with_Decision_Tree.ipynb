{
  "nbformat": 4,
  "nbformat_minor": 0,
  "metadata": {
    "colab": {
      "name": "Mnist Experiment with Decision Tree",
      "version": "0.3.2",
      "provenance": [],
      "include_colab_link": true
    },
    "kernelspec": {
      "name": "python3",
      "display_name": "Python 3"
    }
  },
  "cells": [
    {
      "cell_type": "markdown",
      "metadata": {
        "id": "view-in-github",
        "colab_type": "text"
      },
      "source": [
        "<a href=\"https://colab.research.google.com/github/niksinfinity/ML_AI_Notebooks/blob/master/Mnist_Experiment_with_Decision_Tree.ipynb\" target=\"_parent\"><img src=\"https://colab.research.google.com/assets/colab-badge.svg\" alt=\"Open In Colab\"/></a>"
      ]
    },
    {
      "cell_type": "code",
      "metadata": {
        "id": "d6vQwPtZiT0w",
        "colab_type": "code",
        "colab": {}
      },
      "source": [
        "import pandas as pd\n",
        "import numpy as np\n",
        "from sklearn.svm import LinearSVC\n",
        "from sklearn.svm import SVC\n",
        "from sklearn.model_selection import train_test_split\n",
        "from yellowbrick.model_selection import LearningCurve\n",
        "from sklearn.model_selection import StratifiedKFold\n",
        "from yellowbrick.model_selection import LearningCurve\n"
      ],
      "execution_count": 0,
      "outputs": []
    },
    {
      "cell_type": "code",
      "metadata": {
        "id": "Q4VosBHVifjU",
        "colab_type": "code",
        "colab": {}
      },
      "source": [
        "train_data = pd.read_csv('./sample_data/mnist_train_small.csv')\n",
        "train_data.insert(0,'xo',1,True)\n",
        "test_data = pd.read_csv('./sample_data/mnist_test.csv')\n"
      ],
      "execution_count": 0,
      "outputs": []
    },
    {
      "cell_type": "code",
      "metadata": {
        "id": "MudEGrp2i3wt",
        "colab_type": "code",
        "colab": {}
      },
      "source": [
        "y = train_data['6']\n",
        "x = train_data.loc[:,'0':]\n",
        "x_test = test_data.loc[:,'0':]\n",
        "y_test = test_data.loc[:,'7']\n",
        "\n",
        "x_train , x_cross , y_train , y_cross = train_test_split(x,y,test_size=0.28)\n",
        "x_train , x_cross , y_train , y_cross ,x_test ,y_test = list(map(lambda x : np.array(x),[x_train , x_cross , y_train , y_cross,x_test,y_test]))\n"
      ],
      "execution_count": 0,
      "outputs": []
    },
    {
      "cell_type": "markdown",
      "metadata": {
        "id": "4i_h_hTzjC0T",
        "colab_type": "text"
      },
      "source": [
        "---\n",
        "**FeatureScaling**\n",
        "\n",
        "---\n",
        "\n",
        "\n"
      ]
    },
    {
      "cell_type": "code",
      "metadata": {
        "id": "JjJUxiSTi6TE",
        "colab_type": "code",
        "colab": {}
      },
      "source": [
        "from sklearn.preprocessing import normalize\n",
        "x_train,x_cross,x_test = list(map(lambda x:normalize(x,norm='l2',axis=0,copy=False),[x_train,x_cross,x_test]))"
      ],
      "execution_count": 0,
      "outputs": []
    },
    {
      "cell_type": "markdown",
      "metadata": {
        "id": "QZxZ2-8BjG_P",
        "colab_type": "text"
      },
      "source": [
        "---\n",
        "**Hypothesis**\n",
        "\n",
        "---\n",
        "\n",
        "\n",
        "\n"
      ]
    },
    {
      "cell_type": "code",
      "metadata": {
        "id": "6xdVtcPFi9a1",
        "colab_type": "code",
        "colab": {}
      },
      "source": [
        "from sklearn.tree import DecisionTreeClassifier\n",
        "model = DecisionTreeClassifier(criterion='entropy',splitter='best',max_depth=10,min_samples_split=10,min_samples_leaf=10,min_weight_fraction_leaf=0.5,max_features='log2',presort=True)\n",
        "# model.fit(x_train,y_train)"
      ],
      "execution_count": 0,
      "outputs": []
    },
    {
      "cell_type": "markdown",
      "metadata": {
        "id": "XCEqXmGijLgX",
        "colab_type": "text"
      },
      "source": [
        "---\n",
        "**Learning Curve**\n",
        "\n",
        "---\n"
      ]
    },
    {
      "cell_type": "code",
      "metadata": {
        "id": "Z-DR9cURjOnD",
        "colab_type": "code",
        "colab": {}
      },
      "source": [
        "cv = StratifiedKFold(10)\n",
        "sizes = np.linspace(0.3, 1.0, 10)\n",
        "\n",
        "viz = LearningCurve(\n",
        "    model, cv=cv, train_sizes=sizes,\n",
        "    scoring='f1_weighted',\n",
        ")\n",
        "\n",
        "viz.fit(x_train[:1000], y_train[:1000])\n",
        "viz.poof()"
      ],
      "execution_count": 0,
      "outputs": []
    },
    {
      "cell_type": "markdown",
      "metadata": {
        "id": "VH7mg68QjV53",
        "colab_type": "text"
      },
      "source": [
        "\n",
        "\n",
        "---\n",
        "\n",
        "**Grid Search**\n",
        "\n",
        "---\n",
        "\n"
      ]
    },
    {
      "cell_type": "code",
      "metadata": {
        "id": "OL861r2PjRSM",
        "colab_type": "code",
        "colab": {}
      },
      "source": [
        "from sklearn.model_selection import GridSearchCV\n",
        "max_depth = [2,4,8]\n",
        "cv = StratifiedKFold(10)\n",
        "min_samples_split= [2,4,6]\n",
        "min_samples_leaf = [1,3,6]\n",
        "min_weight_fraction_leaf = [0.3]\n",
        "max_leaf_nodes = [None]\n",
        "min_impurity_decrease = [0.5]\n",
        "param_grid = {'min_impurity_decrease':min_impurity_decrease,'max_leaf_nodes':max_leaf_nodes,max_depth': max_depth, 'min_samples_split' : min_samples_split,'min_samples_leaf':min_samples_leaf}\n",
        "grid_search = GridSearchCV(DecisionTreeClassifier(criterion='gini'), param_grid, cv=cv)\n",
        "grid_search.fit(x_train, y_train)\n",
        "grid_search.best_params_\n",
        "grid_search.score"
      ],
      "execution_count": 0,
      "outputs": []
    },
    {
      "cell_type": "markdown",
      "metadata": {
        "id": "XrmafEKija1U",
        "colab_type": "text"
      },
      "source": [
        "\n",
        "---\n",
        "\n",
        "\n",
        "**Validation**\n",
        "\n",
        "---\n",
        "\n"
      ]
    },
    {
      "cell_type": "code",
      "metadata": {
        "id": "qCcGmBBujbXc",
        "colab_type": "code",
        "colab": {}
      },
      "source": [
        "# model = LinearSVC(penalty='l2',C=80,multi_class='ovr',max_iter=10000)\n",
        "model = DecisionTreeClassifier(criterion='entropy',splitter='best',max_depth=10,min_samples_split=10,min_samples_leaf=10,min_weight_fraction_leaf=0.5,max_features='log2',presort=True)\n",
        "model.fit(x_train,y_train)\n",
        "pred_y = model.predict(x_test)\n",
        "from sklearn.metrics import accuracy_score\n",
        "#91.23912391239124 LogisticReg\n",
        "accuracy_score(y_test,pred_y)*100"
      ],
      "execution_count": 0,
      "outputs": []
    }
  ]
}