{
 "cells": [
  {
   "cell_type": "code",
   "execution_count": 2,
   "metadata": {},
   "outputs": [
    {
     "name": "stderr",
     "output_type": "stream",
     "text": [
      "Using TensorFlow backend.\n"
     ]
    }
   ],
   "source": [
    "from keras.utils import np_utils\n",
    "from keras.layers import Input,Dense,BatchNormalization\n",
    "from keras import regularizers\n",
    "from keras.models import Model\n",
    "import numpy as np\n",
    "import pandas as pd\n",
    "import tensorflow\n",
    "from keras.callbacks import TensorBoard\n",
    "\n"
   ]
  },
  {
   "cell_type": "code",
   "execution_count": 3,
   "metadata": {},
   "outputs": [],
   "source": [
    "path = '/home/niks/projects/datasets/ML_datasets'\n",
    "def get_file(train=False):\n",
    "    if train:return path + '/mnist_train.csv'\n",
    "    else : return path + '/mnist_test.csv'"
   ]
  },
  {
   "cell_type": "code",
   "execution_count": 4,
   "metadata": {},
   "outputs": [],
   "source": [
    "train_data = pd.read_csv(get_file(True))\n",
    "test_data = pd.read_csv(get_file(False))"
   ]
  },
  {
   "cell_type": "code",
   "execution_count": 5,
   "metadata": {},
   "outputs": [
    {
     "name": "stdout",
     "output_type": "stream",
     "text": [
      "(59999, 784)\n"
     ]
    }
   ],
   "source": [
    "train_y = train_data['5']\n",
    "train_x = train_data.loc[:,'0':]\n",
    "test_x = test_data.loc[:,'0':]\n",
    "test_y = test_data['7']\n",
    "\n",
    "train_x,test_x = map(lambda x:np.array(x),[train_x,test_x])\n",
    "test_y,train_y = map(lambda x:np.array(x).reshape(x.shape[0],1),[test_y,train_y])\n",
    "print(train_x.shape)\n",
    "train_x = (train_x / 255)\n",
    "test_x = (test_x / 255)\n",
    "train_y = np_utils.to_categorical(train_y,10)\n",
    "test_y = np_utils.to_categorical(test_y,10)"
   ]
  },
  {
   "cell_type": "code",
   "execution_count": 6,
   "metadata": {},
   "outputs": [],
   "source": [
    "from sklearn.model_selection import train_test_split\n",
    "train_x,train_dev_x,train_y,train_dev_y = train_test_split(train_x, train_y,train_size=0.9,test_size=0.1,random_state=0,shuffle=True)\n",
    "test_x,dev_x,test_y,dev_y = train_test_split(test_x, test_y, random_state=0,shuffle=True)"
   ]
  },
  {
   "cell_type": "code",
   "execution_count": 7,
   "metadata": {},
   "outputs": [
    {
     "name": "stdout",
     "output_type": "stream",
     "text": [
      "Train_x--> (53999, 784)\t\t Train_y (53999, 10) \n",
      "Train_dev_x -> (6000, 784) \t Train_dev_y -> (6000, 10) \n",
      "Test_x -> (7499, 784) \t\t Test_y -> (7499, 10) \n",
      "Dev_x -> (2500, 784) \t\t Dev_y -> (2500, 10)\n"
     ]
    }
   ],
   "source": [
    "print(\"Train_x--> {}\\t\\t Train_y {} \\nTrain_dev_x -> {} \\t Train_dev_y -> {} \\nTest_x -> {} \\t\\t Test_y -> {} \\nDev_x -> {} \\t\\t Dev_y -> {}\".format(train_x.shape,train_y.shape,train_dev_x.shape,train_dev_y.shape,test_x.shape,test_y.shape,dev_x.shape,dev_y.shape))"
   ]
  },
  {
   "cell_type": "code",
   "execution_count": 62,
   "metadata": {},
   "outputs": [],
   "source": [
    "from keras.layers import Input,Dense,BatchNormalization\n",
    "from keras import regularizers\n",
    "from keras.models import Model\n",
    "from keras import backend as K\n",
    "from keras.callbacks import TensorBoard\n",
    "from keras.optimizers import Adagrad\n",
    "K.clear_session()\n",
    "\n",
    "inputs = Input(shape=(784,))\n",
    "\n",
    "X = Dense(units=30,activation='relu',name='Input')(inputs)\n",
    "\n",
    "X = BatchNormalization(name='batch_normal1')(X)\n",
    "\n",
    "X = Dense(units=40,activation='relu',kernel_regularizer=regularizers.l1_l2(l1=0.0001, l2=0.0001),name='dense1')(X)\n",
    "\n",
    "X = BatchNormalization(name='batch_normal2')(X)\n",
    "\n",
    "X = Dense(units=80,activation='relu',kernel_regularizer=regularizers.l1_l2(l1=0.0001, l2=0.0001),name='dense2')(X)\n",
    "\n",
    "X = BatchNormalization(name='batch_normal3')(X)\n",
    "\n",
    "X = Dense(units=40,activation='relu',kernel_regularizer=regularizers.l1_l2(l1=0.0001, l2=0.0001),name='dense3')(X)\n",
    "\n",
    "\n",
    "prediction = Dense(units=10,activation='softmax',name='output')(X)\n",
    "\n",
    "model = Model(inputs=inputs,outputs=prediction)\n",
    "\n",
    "model.compile(optimizer=Adagrad(lr=0.1, epsilon=None, decay=0.00000002)\n",
    ",loss='categorical_crossentropy',metrics = ['accuracy'])\n",
    "\n",
    "# log_dir = '/tmp/log/'\n",
    "# tfk = TensorBoard(log_dir=log_dir, histogram_freq=0,write_graph=True, write_images=True)\n",
    "import shutil\n",
    "shutil.rmtree('/tmp/log/training')\n",
    "shutil.rmtree('/tmp/log/validation')"
   ]
  },
  {
   "cell_type": "code",
   "execution_count": null,
   "metadata": {},
   "outputs": [
    {
     "name": "stdout",
     "output_type": "stream",
     "text": [
      "Train on 53999 samples, validate on 6000 samples\n",
      "Epoch 1/30\n",
      "53999/53999 [==============================] - 13s 244us/step - loss: 0.4607 - acc: 0.8964 - val_loss: 0.3072 - val_acc: 0.9383\n",
      "Epoch 2/30\n",
      "53999/53999 [==============================] - 9s 170us/step - loss: 0.2783 - acc: 0.9421 - val_loss: 0.2291 - val_acc: 0.9558\n",
      "Epoch 3/30\n",
      "53999/53999 [==============================] - 9s 172us/step - loss: 0.2361 - acc: 0.9516 - val_loss: 0.2150 - val_acc: 0.9568\n",
      "Epoch 4/30\n",
      "53999/53999 [==============================] - 9s 169us/step - loss: 0.2093 - acc: 0.9574 - val_loss: 0.2080 - val_acc: 0.9582\n",
      "Epoch 5/30\n",
      "53999/53999 [==============================] - 9s 174us/step - loss: 0.1928 - acc: 0.9596 - val_loss: 0.1809 - val_acc: 0.9625\n",
      "Epoch 6/30\n",
      "53999/53999 [==============================] - 9s 169us/step - loss: 0.1802 - acc: 0.9631 - val_loss: 0.1762 - val_acc: 0.9648\n",
      "Epoch 7/30\n",
      "53999/53999 [==============================] - 9s 169us/step - loss: 0.1728 - acc: 0.9636 - val_loss: 0.1711 - val_acc: 0.9662\n",
      "Epoch 8/30\n",
      "53999/53999 [==============================] - 9s 171us/step - loss: 0.1631 - acc: 0.9667 - val_loss: 0.1623 - val_acc: 0.9687\n",
      "Epoch 9/30\n",
      "53999/53999 [==============================] - 9s 169us/step - loss: 0.1546 - acc: 0.9689 - val_loss: 0.1622 - val_acc: 0.9653\n",
      "Epoch 10/30\n",
      "53999/53999 [==============================] - 9s 169us/step - loss: 0.1466 - acc: 0.9701 - val_loss: 0.1602 - val_acc: 0.9662\n",
      "Epoch 11/30\n",
      "53999/53999 [==============================] - 9s 171us/step - loss: 0.1439 - acc: 0.9709 - val_loss: 0.1715 - val_acc: 0.9640\n",
      "Epoch 12/30\n",
      "52864/53999 [============================>.] - ETA: 0s - loss: 0.1407 - acc: 0.9707"
     ]
    }
   ],
   "source": [
    "model.fit(x=train_x,y=train_y,batch_size=32,epochs=30,shuffle=True,validation_data=(train_dev_x,train_dev_y),callbacks = [TrainValTensorBoard(write_graph=False)])"
   ]
  },
  {
   "cell_type": "code",
   "execution_count": null,
   "metadata": {},
   "outputs": [],
   "source": [
    "print(\"Dev Data-->\",model.evaluate(x=dev_x, y=dev_y, batch_size=32)[1])"
   ]
  },
  {
   "cell_type": "code",
   "execution_count": null,
   "metadata": {},
   "outputs": [],
   "source": [
    "print(\"Test Data -->\",model.evaluate(x=test_x, y=test_y, batch_size=32)[1])"
   ]
  },
  {
   "cell_type": "code",
   "execution_count": null,
   "metadata": {},
   "outputs": [],
   "source": [
    "print(\"Train Data -->\",model.evaluate(x=train_x, y=train_y, batch_size=32)[1])"
   ]
  },
  {
   "cell_type": "code",
   "execution_count": 20,
   "metadata": {},
   "outputs": [],
   "source": [
    "class TrainValTensorBoard(TensorBoard):\n",
    "    def __init__(self, log_dir='/tmp/log/', **kwargs):\n",
    "        self.val_log_dir = os.path.join(log_dir, 'validation')\n",
    "        training_log_dir = os.path.join(log_dir, 'training')\n",
    "        super(TrainValTensorBoard, self).__init__(training_log_dir, **kwargs)\n",
    "\n",
    "    def set_model(self, model):\n",
    "        if context.executing_eagerly():\n",
    "            self.val_writer = tensorflow.contrib.summary.create_file_writer(self.val_log_dir)\n",
    "        else:\n",
    "            self.val_writer = tensorflow.summary.FileWriter(self.val_log_dir)\n",
    "        super(TrainValTensorBoard, self).set_model(model)\n",
    "\n",
    "    def _write_custom_summaries(self, step, logs=None):\n",
    "        logs = logs or {}\n",
    "        val_logs = {k.replace('val_', ''): v for k, v in logs.items() if 'val_' in k}\n",
    "        if context.executing_eagerly():\n",
    "            with self.val_writer.as_default(), tensorflow.contrib.summary.always_record_summaries():\n",
    "                for name, value in val_logs.items():\n",
    "                    tensorflow.contrib.summary.scalar(name, value.item(), step=step)\n",
    "        else:\n",
    "            for name, value in val_logs.items():\n",
    "                summary = tensorflow.Summary()\n",
    "                summary_value = summary.value.add()\n",
    "                summary_value.simple_value = value.item()\n",
    "                summary_value.tag = name\n",
    "                self.val_writer.add_summary(summary, step)\n",
    "        self.val_writer.flush()\n",
    "\n",
    "        logs = {k: v for k, v in logs.items() if not 'val_' in k}\n",
    "        super(TrainValTensorBoard, self)._write_custom_summaries(step, logs)\n",
    "\n",
    "    def on_train_end(self, logs=None):\n",
    "        super(TrainValTensorBoard, self).on_train_end(logs)\n",
    "        self.val_writer.close()"
   ]
  }
 ],
 "metadata": {
  "kernelspec": {
   "display_name": "tf_gpu_1_13",
   "language": "python",
   "name": "tf_gpu_1_13"
  },
  "language_info": {
   "codemirror_mode": {
    "name": "ipython",
    "version": 3
   },
   "file_extension": ".py",
   "mimetype": "text/x-python",
   "name": "python",
   "nbconvert_exporter": "python",
   "pygments_lexer": "ipython3",
   "version": "3.6.8"
  }
 },
 "nbformat": 4,
 "nbformat_minor": 2
}
