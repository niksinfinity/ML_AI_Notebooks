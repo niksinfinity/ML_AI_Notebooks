{
  "nbformat": 4,
  "nbformat_minor": 0,
  "metadata": {
    "colab": {
      "name": "Mnist Experiment Using Neural Network",
      "version": "0.3.2",
      "provenance": [],
      "collapsed_sections": [],
      "include_colab_link": true
    },
    "kernelspec": {
      "name": "python3",
      "display_name": "Python 3"
    }
  },
  "cells": [
    {
      "cell_type": "markdown",
      "metadata": {
        "id": "view-in-github",
        "colab_type": "text"
      },
      "source": [
        "<a href=\"https://colab.research.google.com/github/niksinfinity/ML_AI_Notebooks/blob/master/Mnist_Experiment_Using_Neural_Network.ipynb\" target=\"_parent\"><img src=\"https://colab.research.google.com/assets/colab-badge.svg\" alt=\"Open In Colab\"/></a>"
      ]
    },
    {
      "cell_type": "code",
      "metadata": {
        "id": "Hbp-9nfgHVG5",
        "colab_type": "code",
        "outputId": "a20e842c-6a5a-44fb-9eb0-1e69fbdf8218",
        "colab": {
          "base_uri": "https://localhost:8080/",
          "height": 34
        }
      },
      "source": [
        "import numpy as np\n",
        "import pandas as pd\n",
        "from sklearn.preprocessing import normalize\n",
        "from sklearn.model_selection import train_test_split\n",
        "import matplotlib.pyplot as plt\n",
        "%matplotlib inline\n",
        "import os \n",
        "import h5py\n",
        "os.listdir('./')"
      ],
      "execution_count": 0,
      "outputs": [
        {
          "output_type": "execute_result",
          "data": {
            "text/plain": [
              "['.config', 'ML_datasets', 'sample_data']"
            ]
          },
          "metadata": {
            "tags": []
          },
          "execution_count": 97
        }
      ]
    },
    {
      "cell_type": "code",
      "metadata": {
        "id": "I38kr1qk_Q3F",
        "colab_type": "code",
        "colab": {}
      },
      "source": [
        "#!git clone https://github.com/niksinfinity/ML_datasets.git"
      ],
      "execution_count": 0,
      "outputs": []
    },
    {
      "cell_type": "code",
      "metadata": {
        "id": "07cMcX-4AN_3",
        "colab_type": "code",
        "colab": {}
      },
      "source": [
        "train_data = h5py.File('./ML_datasets/catsvsdogs/train_catvnoncat.h5')\n",
        "test_data = h5py.File('./ML_datasets/catsvsdogs/test_catvnoncat.h5')"
      ],
      "execution_count": 0,
      "outputs": []
    },
    {
      "cell_type": "code",
      "metadata": {
        "id": "5BAUbtbZAQLf",
        "colab_type": "code",
        "colab": {}
      },
      "source": [
        "classes_train,train_x_orig,train_y_orig=map(lambda x:np.array(x),train_data.values())\n",
        "classes_test,test_x_orig,test_y_orig=map(lambda x:np.array(x),test_data.values())"
      ],
      "execution_count": 0,
      "outputs": []
    },
    {
      "cell_type": "code",
      "metadata": {
        "id": "Ktbwg90_A4jD",
        "colab_type": "code",
        "outputId": "0f5f9f7b-db18-4081-88ec-2edc6d62c6b6",
        "colab": {
          "base_uri": "https://localhost:8080/",
          "height": 85
        }
      },
      "source": [
        "train_x_flatten = train_x_orig.reshape(train_x_orig.shape[0], -1).T\n",
        "test_x_flatten = test_x_orig.reshape(test_x_orig.shape[0], -1).T\n",
        "train_y = train_y_orig.reshape(train_y_orig.shape[0],1).T\n",
        "test_y =  test_y_orig.reshape(test_y_orig.shape[0],1).T\n",
        "print(train_x_flatten.shape)\n",
        "print(test_x_flatten.shape)\n",
        "print(test_y.shape)\n",
        "print(train_y.shape)\n",
        "train_x = train_x_flatten /255\n",
        "test_x = test_x_flatten /255"
      ],
      "execution_count": 0,
      "outputs": [
        {
          "output_type": "stream",
          "text": [
            "(12288, 209)\n",
            "(12288, 50)\n",
            "(1, 50)\n",
            "(1, 209)\n"
          ],
          "name": "stdout"
        }
      ]
    },
    {
      "cell_type": "markdown",
      "metadata": {
        "id": "OGOzd8D-xgth",
        "colab_type": "text"
      },
      "source": [
        "Deep Neural Network"
      ]
    },
    {
      "cell_type": "code",
      "metadata": {
        "id": "PDQOrgK0HhBn",
        "colab_type": "code",
        "colab": {}
      },
      "source": [
        "def sigmoid(z):\n",
        "  return 1/(1+np.exp(-z)),z\n",
        "\n",
        "def relu(z):\n",
        "  return np.maximum(0,z),z"
      ],
      "execution_count": 0,
      "outputs": []
    },
    {
      "cell_type": "code",
      "metadata": {
        "id": "XbIuqC6sIHDX",
        "colab_type": "code",
        "colab": {}
      },
      "source": [
        ""
      ],
      "execution_count": 0,
      "outputs": []
    },
    {
      "cell_type": "code",
      "metadata": {
        "id": "r6nRfmDrLs9o",
        "colab_type": "code",
        "colab": {}
      },
      "source": [
        "def relu_backward(dA,Z):\n",
        "\n",
        "  #dZ[Z <= 0] = 0\n",
        "  dZ = np.array(dA, copy=True)\n",
        "  dZ[Z <= 0] = 0\n",
        "  \n",
        "  return dZ\n",
        "\n",
        "def sigmoid_backward(dA,Z):\n",
        "  Z = sigmoid(Z)\n",
        "  Z = Z[0] * (1-Z[0])\n",
        "  \n",
        "  return dA*Z"
      ],
      "execution_count": 0,
      "outputs": []
    },
    {
      "cell_type": "code",
      "metadata": {
        "id": "bnqHkLmRBZfw",
        "colab_type": "code",
        "colab": {}
      },
      "source": [
        "def initialize_parameters_deep(layer_dims):\n",
        "    \"\"\"\n",
        "    Arguments:\n",
        "    layer_dims -- python array (list) containing the dimensions of each layer in our network\n",
        "    \n",
        "    Returns:\n",
        "    parameters -- python dictionary containing your parameters \"W1\", \"b1\", ..., \"WL\", \"bL\":\n",
        "                    Wl -- weight matrix of shape (layer_dims[l], layer_dims[l-1])\n",
        "                    bl -- bias vector of shape (layer_dims[l], 1)\n",
        "    \"\"\"\n",
        "    \n",
        "    np.random.seed(3)\n",
        "    parameters = {}\n",
        "    L = len(layer_dims)            # number of layers in the network\n",
        "    \n",
        "    for l in range(1, L):\n",
        "        parameters['W' + str(l)] = np.random.randn(layer_dims[l],layer_dims[l-1]) * np.sqrt(2/layer_dims[l-1])\n",
        "        parameters['b' + str(l)] = np.zeros((layer_dims[l],1))\n",
        "        \n",
        "        assert(parameters['W' + str(l)].shape == (layer_dims[l], layer_dims[l-1]))\n",
        "        assert(parameters['b' + str(l)].shape == (layer_dims[l], 1))\n",
        "\n",
        "        \n",
        "    return parameters\n",
        "  "
      ],
      "execution_count": 0,
      "outputs": []
    },
    {
      "cell_type": "code",
      "metadata": {
        "id": "A-as4UAdxnGq",
        "colab_type": "code",
        "colab": {}
      },
      "source": [
        "def linear_forward(A, W, b):\n",
        "    \"\"\"\n",
        "    Implement the linear part of a layer's forward propagation.\n",
        "\n",
        "    Arguments:\n",
        "    A -- activations from previous layer (or input data): (size of previous layer, number of examples)\n",
        "    W -- weights matrix: numpy array of shape (size of current layer, size of previous layer)\n",
        "    b -- bias vector, numpy array of shape (size of the current layer, 1)\n",
        "\n",
        "    Returns:\n",
        "    Z -- the input of the activation function, also called pre-activation parameter \n",
        "    cache -- a python dictionary containing \"A\", \"W\" and \"b\" ; stored for computing the backward pass efficiently\n",
        "    \"\"\"\n",
        "    \n",
        "    Z = np.dot(W,A) + b\n",
        "    \n",
        "    assert(Z.shape == (W.shape[0], A.shape[1]))\n",
        "    cache = (A, W, b)\n",
        "    \n",
        "    return Z, cache"
      ],
      "execution_count": 0,
      "outputs": []
    },
    {
      "cell_type": "code",
      "metadata": {
        "id": "X6JqiEtZxs96",
        "colab_type": "code",
        "colab": {}
      },
      "source": [
        "def linear_activation_forward(A_prev, W, b, activation):\n",
        "    \"\"\"\n",
        "    Implement the forward propagation for the LINEAR->ACTIVATION layer\n",
        "\n",
        "    Arguments:\n",
        "    A_prev -- activations from previous layer (or input data): (size of previous layer, number of examples)\n",
        "    W -- weights matrix: numpy array of shape (size of current layer, size of previous layer)\n",
        "    b -- bias vector, numpy array of shape (size of the current layer, 1)\n",
        "    activation -- the activation to be used in this layer, stored as a text string: \"sigmoid\" or \"relu\"\n",
        "\n",
        "    Returns:\n",
        "    A -- the output of the activation function, also called the post-activation value \n",
        "    cache -- a python dictionary containing \"linear_cache\" and \"activation_cache\";\n",
        "             stored for computing the backward pass efficiently\n",
        "    \"\"\"\n",
        "    np.random.seed(3)\n",
        "    if activation == \"sigmoid\":\n",
        "        # Inputs: \"A_prev, W, b\". Outputs: \"A, activation_cache\".\n",
        "        Z, linear_cache = linear_forward(A_prev,W,b)\n",
        "        A, activation_cache = sigmoid(Z)\n",
        "#         if dropout:\n",
        "#           DL = np.random.randn(A.shape[0],A.shape[1]) < keepdims\n",
        "#           A = np.multiply(A,DL)\n",
        "#           A = A / keepdims\n",
        "    \n",
        "    elif activation == \"relu\":\n",
        "        # Inputs: \"A_prev, W, b\". Outputs: \"A, activation_cache\".\n",
        "        Z, linear_cache = linear_forward(A_prev,W,b)\n",
        "        A, activation_cache = relu(Z)\n",
        "        if dropout:\n",
        "          DL = np.random.rand(A.shape[0],A.shape[1]) <= keepdims\n",
        "          A = np.multiply(A,DL)\n",
        "          A = A / keepdims\n",
        "    \n",
        "    \n",
        "    assert (A.shape == (W.shape[0], A_prev.shape[1]))\n",
        "    cache = (linear_cache, activation_cache)\n",
        "\n",
        "    return A, cache"
      ],
      "execution_count": 0,
      "outputs": []
    },
    {
      "cell_type": "code",
      "metadata": {
        "id": "0nG65JrFx8FZ",
        "colab_type": "code",
        "colab": {}
      },
      "source": [
        "def L_model_forward(X, parameters):\n",
        "    \"\"\"\n",
        "    Implement forward propagation for the [LINEAR->RELU]*(L-1)->LINEAR->SIGMOID computation\n",
        "    \n",
        "    Arguments:\n",
        "    X -- data, numpy array of shape (input size, number of examples)\n",
        "    parameters -- output of initialize_parameters_deep()\n",
        "    \n",
        "    Returns:\n",
        "    AL -- last post-activation value\n",
        "    caches -- list of caches containing:\n",
        "                every cache of linear_activation_forward() (there are L-1 of them, indexed from 0 to L-1)\n",
        "    \"\"\"\n",
        "\n",
        "    caches = []\n",
        "    A = X\n",
        "    L = len(parameters) // 2                  # number of layers in the neural network\n",
        "    \n",
        "    # Implement [LINEAR -> RELU]*(L-1). Add \"cache\" to the \"caches\" list.\n",
        "    for l in range(1, L):\n",
        "        A_prev = A \n",
        "        A, cache = linear_activation_forward(A,activation='relu',b=parameters['b'+str(l)],W=parameters['W'+str(l)])\n",
        "        caches.append(cache)\n",
        "    \n",
        "    # Implement LINEAR -> SIGMOID. Add \"cache\" to the \"caches\" list.\n",
        "    AL, cache = linear_activation_forward(A,activation='sigmoid',b=parameters['b'+str(L)],W=parameters['W'+str(L)])\n",
        "    caches.append(cache)\n",
        "    \n",
        "    assert(AL.shape == (1,X.shape[1]))\n",
        "            \n",
        "    return AL, caches"
      ],
      "execution_count": 0,
      "outputs": []
    },
    {
      "cell_type": "code",
      "metadata": {
        "id": "-GCNGpmLyMot",
        "colab_type": "code",
        "colab": {}
      },
      "source": [
        "def compute_cost(AL, Y):\n",
        "    \"\"\"\n",
        "    Implement the cost function defined by equation (7).\n",
        "\n",
        "    Arguments:\n",
        "    AL -- probability vector corresponding to your label predictions, shape (1, number of examples)\n",
        "    Y -- true \"label\" vector (for example: containing 0 if non-cat, 1 if cat), shape (1, number of examples)\n",
        "\n",
        "    Returns:\n",
        "    cost -- cross-entropy cost\n",
        "    \"\"\"\n",
        "    m = Y.shape[1]\n",
        "\n",
        "    # Compute loss from aL and y.\n",
        "    cost = -(np.sum(np.multiply(Y,np.log(AL)) + np.multiply((1-Y),np.log(1-AL))))/m\n",
        "    \n",
        "    cost = np.squeeze(cost)      # To make sure your cost's shape is what we expect (e.g. this turns [[17]] into 17).\n",
        "    assert(cost.shape == ())\n",
        "    \n",
        "    return cost"
      ],
      "execution_count": 0,
      "outputs": []
    },
    {
      "cell_type": "code",
      "metadata": {
        "id": "CatqwTv2yZIr",
        "colab_type": "code",
        "colab": {}
      },
      "source": [
        "def linear_backward(dZ, cache):\n",
        "    \"\"\"\n",
        "    Implement the linear portion of backward propagation for a single layer (layer l)\n",
        "\n",
        "    Arguments:\n",
        "    dZ -- Gradient of the cost with respect to the linear output (of current layer l)\n",
        "    cache -- tuple of values (A_prev, W, b) coming from the forward propagation in the current layer\n",
        "\n",
        "    Returns:\n",
        "    dA_prev -- Gradient of the cost with respect to the activation (of the previous layer l-1), same shape as A_prev\n",
        "    dW -- Gradient of the cost with respect to W (current layer l), same shape as W\n",
        "    db -- Gradient of the cost with respect to b (current layer l), same shape as b\n",
        "    \"\"\"\n",
        "    A_prev, W, b = cache\n",
        "    m = A_prev.shape[1]\n",
        "\n",
        "    dW = np.dot(dZ,A_prev.T)/m\n",
        "    db = np.sum(dZ,axis=1,keepdims=True)/m\n",
        "    dA_prev = np.dot(W.T,dZ)\n",
        "    \n",
        "    assert (dA_prev.shape == A_prev.shape)\n",
        "    assert (dW.shape == W.shape)\n",
        "    assert (db.shape == b.shape)\n",
        "    \n",
        "    return dA_prev, dW, db"
      ],
      "execution_count": 0,
      "outputs": []
    },
    {
      "cell_type": "code",
      "metadata": {
        "id": "LCXwxmjhyhAR",
        "colab_type": "code",
        "colab": {}
      },
      "source": [
        "def linear_activation_backward(dA, cache, activation):\n",
        "    \"\"\"\n",
        "    Implement the backward propagation for the LINEAR->ACTIVATION layer.\n",
        "    \n",
        "    Arguments:\n",
        "    dA -- post-activation gradient for current layer l \n",
        "    cache -- tuple of values (linear_cache, activation_cache) we store for computing backward propagation efficiently\n",
        "    activation -- the activation to be used in this layer, stored as a text string: \"sigmoid\" or \"relu\"\n",
        "    \n",
        "    Returns:\n",
        "    dA_prev -- Gradient of the cost with respect to the activation (of the relu_backwardprevious layer l-1), same shape as A_prev\n",
        "    dW -- Gradient of the cost with respect to W (current layer l), same shape as W\n",
        "    db -- Gradient of the cost with respect to b (current layer l), same shape as b\n",
        "    \"\"\"\n",
        "    linear_cache, activation_cache = cache\n",
        "    \n",
        "    if activation == \"relu\":\n",
        "        \n",
        "        dZ = relu_backward(dA,activation_cache)\n",
        "        dA_prev, dW, db = linear_backward(cache=linear_cache,dZ=dZ)\n",
        "        \n",
        "    elif activation == \"sigmoid\":\n",
        "       \n",
        "        dZ = sigmoid_backward(dA,activation_cache)\n",
        "        dA_prev, dW, db = linear_backward(cache=linear_cache,dZ=dZ)\n",
        "    \n",
        "   \n",
        "    return dA_prev, dW, db"
      ],
      "execution_count": 0,
      "outputs": []
    },
    {
      "cell_type": "code",
      "metadata": {
        "id": "3BnpAp0aytKI",
        "colab_type": "code",
        "colab": {}
      },
      "source": [
        "def L_model_backward(AL, Y, caches):\n",
        "    \"\"\"\n",
        "    Implement the backward propagation for the [LINEAR->RELU] * (L-1) -> LINEAR -> SIGMOID group\n",
        "    \n",
        "    Arguments:\n",
        "    AL -- probability vector, output of the forward propagation (L_model_forward())\n",
        "    Y -- true \"label\" vector (containing 0 if non-cat, 1 if cat)\n",
        "    caches -- list of caches containing:\n",
        "                every cache of linear_activation_forward() with \"relu\" (it's caches[l], for l in range(L-1) i.e l = 0...L-2)\n",
        "                the cache of linear_activation_forward() with \"sigmoid\" (it's caches[L-1])\n",
        "    \n",
        "    Returns:\n",
        "    grads -- A dictionary with the gradients\n",
        "             grads[\"dA\" + str(l)] = ... \n",
        "             grads[\"dW\" + str(l)] = ...\n",
        "             grads[\"db\" + str(l)] = ... \n",
        "    \"\"\"\n",
        "    grads = {}\n",
        "    L = len(caches) # the number of layers\n",
        "    m = AL.shape[1]\n",
        "    Y = Y.reshape(AL.shape) # after this line, Y is the same shape as AL\n",
        "    \n",
        "    # Initializing the backpropagation\n",
        "    dAL = - (np.divide(Y, AL) - np.divide(1 - Y, 1 - AL))\n",
        "    \n",
        "    \n",
        "    # Lth layer (SIGMOID -> LINEAR) gradients. Inputs: \"dAL, current_cache\". Outputs: \"grads[\"dAL-1\"], grads[\"dWL\"], grads[\"dbL\"]\n",
        "    current_cache = caches[L-1]\n",
        "    grads[\"dA\" + str(L-1)], grads[\"dW\" + str(L)], grads[\"db\" + str(L)] = linear_activation_backward(activation='sigmoid',cache=current_cache,dA=dAL)\n",
        "    \n",
        "    # Loop from l=L-2 to l=0\n",
        "    for l in reversed(range(L-1)):\n",
        "        # lth layer: (RELU -> LINEAR) gradients.\n",
        "        # Inputs: \"grads[\"dA\" + str(l + 1)], current_cache\". Outputs: \"grads[\"dA\" + str(l)] , grads[\"dW\" + str(l + 1)] , grads[\"db\" + str(l + 1)] \n",
        "        current_cache = caches[l]\n",
        "        dA_prev_temp, dW_temp, db_temp = linear_activation_backward(activation='relu',cache=current_cache,dA=grads[\"dA\"+str(l+1)])\n",
        "        grads[\"dA\" + str(l)] = dA_prev_temp\n",
        "        grads[\"dW\" + str(l + 1)] = dW_temp\n",
        "        grads[\"db\" + str(l + 1)] = db_temp\n",
        "\n",
        "    return grads"
      ],
      "execution_count": 0,
      "outputs": []
    },
    {
      "cell_type": "code",
      "metadata": {
        "id": "Fm_H7zoyy5LY",
        "colab_type": "code",
        "colab": {}
      },
      "source": [
        "# GRADED FUNCTION: update_parameters\n",
        "\n",
        "def update_parameters(parameters, grads, learning_rate):\n",
        "    \"\"\"\n",
        "    Update parameters using gradient descent\n",
        "    \n",
        "    Arguments:\n",
        "    parameters -- python dictionary containing your parameters \n",
        "    grads -- python dictionary containing your gradients, output of L_model_backward\n",
        "    \n",
        "    Returns:\n",
        "    parameters -- python dictionary containing your updated parameters \n",
        "                  parameters[\"W\" + str(l)] = ... \n",
        "                  parameters[\"b\" + str(l)] = ...\n",
        "    \"\"\"\n",
        "    \n",
        "    L = len(parameters) // 2 # number of layers in the neural network\n",
        "\n",
        "    # Update rule for each parameter.\n",
        "    for l in range(L):\n",
        "       \n",
        "        parameters[\"W\" + str(l+1)] = parameters[\"W\" + str(l+1)] - (learning_rate * grads['dW'+ str(l+1)])\n",
        "        parameters[\"b\" + str(l+1)] = parameters[\"b\" + str(l+1)] - (learning_rate * grads['db'+ str(l+1)])\n",
        "    return parameters"
      ],
      "execution_count": 0,
      "outputs": []
    },
    {
      "cell_type": "code",
      "metadata": {
        "id": "9qYApSD7zojS",
        "colab_type": "code",
        "colab": {}
      },
      "source": [
        "    "
      ],
      "execution_count": 0,
      "outputs": []
    },
    {
      "cell_type": "code",
      "metadata": {
        "id": "SJkI1ptiz7f4",
        "colab_type": "code",
        "colab": {}
      },
      "source": [
        "def L_layer_model(X, Y, layers_dims, learning_rate = 0.000075, num_iterations = 3000, print_cost=False):#lr was 0.009\n",
        "    \"\"\"\n",
        "    Implements a L-layer neural network: [LINEAR->RELU]*(L-1)->LINEAR->SIGMOID.\n",
        "    \n",
        "    Arguments:\n",
        "    X -- data, numpy array of shape (number of examples, num_px * num_px * 3)\n",
        "    Y -- true \"label\" vector (containing 0 if cat, 1 if non-cat), of shape (1, number of examples)\n",
        "    layers_dims -- list containing the input size and each layer size, of length (number of layers + 1).\n",
        "    learning_rate -- learning rate of the gradient descent update rule\n",
        "    num_iterations -- number of iterations of the optimization loop\n",
        "    print_cost -- if True, it prints the cost every 100 steps\n",
        "    \n",
        "    Returns:\n",
        "    parameters -- parameters learnt by the model. They can then be used to predict.\n",
        "    \"\"\"\n",
        "\n",
        "    np.random.seed(1)\n",
        "    costs = []                         # keep track of cost\n",
        "    \n",
        "    # Parameters initialization. (≈ 1 line of code)\n",
        "    parameters = initialize_parameters_deep(layers_dims)\n",
        "    \n",
        "    # Loop (gradient descent)\n",
        "    for i in range(0, num_iterations):\n",
        "\n",
        "        # Forward propagation: [LINEAR -> RELU]*(L-1) -> LINEAR -> SIGMOID.\n",
        "        AL, caches = L_model_forward(parameters=parameters,X=X)\n",
        "        \n",
        "        # Compute cost.\n",
        "        cost = compute_cost(AL,Y)\n",
        "    \n",
        "        # Backward propagation.\n",
        "        grads = L_model_backward(AL=AL,caches=caches,Y=Y)\n",
        " \n",
        "        # Update parameters.\n",
        "        parameters = update_parameters(grads=grads,learning_rate=learning_rate,parameters=parameters)\n",
        "                \n",
        "        # Print the cost every 100 training example\n",
        "        if print_cost and i % 100 == 0:\n",
        "            print (\"Cost after iteration %i: %f\" %(i, cost))\n",
        "        if print_cost and i % 100 == 0:\n",
        "            costs.append(cost)\n",
        "            \n",
        "    # plot the cost\n",
        "    plt.plot(np.squeeze(costs))\n",
        "    plt.ylabel('cost')\n",
        "    plt.xlabel('iterations (per tens)')\n",
        "    plt.title(\"Learning rate =\" + str(learning_rate))\n",
        "    plt.show()\n",
        "    \n",
        "    return parameters"
      ],
      "execution_count": 0,
      "outputs": []
    },
    {
      "cell_type": "code",
      "metadata": {
        "id": "vM_q0Y1J0WUG",
        "colab_type": "code",
        "outputId": "652a5915-a2fc-4803-937c-938715616489",
        "colab": {
          "base_uri": "https://localhost:8080/",
          "height": 3729
        }
      },
      "source": [
        "\n",
        "layers_dims = [12288,12,16,10,1] #  4-layer model\n",
        "keepdims = 0.905\n",
        "dropout = True\n",
        "parameters = L_layer_model(train_x, train_y, layers_dims, num_iterations = 20000,learning_rate=0.00099, print_cost = True)\n",
        "print(\"Train Accuracy -->{}\".format(predict(train_x,train_y,parameters)[2]))\n",
        "dropout=False\n",
        "print(\"Testing Accuracy --->{}\".format(predict(test_x,test_y,parameters)[2]))\n"
      ],
      "execution_count": 0,
      "outputs": [
        {
          "output_type": "stream",
          "text": [
            "Cost after iteration 0: 0.717528\n",
            "Cost after iteration 100: 0.626225\n",
            "Cost after iteration 200: 0.604746\n",
            "Cost after iteration 300: 0.587905\n",
            "Cost after iteration 400: 0.573506\n",
            "Cost after iteration 500: 0.558693\n",
            "Cost after iteration 600: 0.545248\n",
            "Cost after iteration 700: 0.532457\n",
            "Cost after iteration 800: 0.520504\n",
            "Cost after iteration 900: 0.507770\n",
            "Cost after iteration 1000: 0.494612\n",
            "Cost after iteration 1100: 0.479827\n",
            "Cost after iteration 1200: 0.464287\n",
            "Cost after iteration 1300: 0.448244\n",
            "Cost after iteration 1400: 0.432522\n",
            "Cost after iteration 1500: 0.417418\n",
            "Cost after iteration 1600: 0.402583\n",
            "Cost after iteration 1700: 0.387919\n",
            "Cost after iteration 1800: 0.373808\n",
            "Cost after iteration 1900: 0.360517\n",
            "Cost after iteration 2000: 0.347507\n",
            "Cost after iteration 2100: 0.335766\n",
            "Cost after iteration 2200: 0.323932\n",
            "Cost after iteration 2300: 0.312270\n",
            "Cost after iteration 2400: 0.300984\n",
            "Cost after iteration 2500: 0.290887\n",
            "Cost after iteration 2600: 0.280597\n",
            "Cost after iteration 2700: 0.270208\n",
            "Cost after iteration 2800: 0.260923\n",
            "Cost after iteration 2900: 0.252430\n",
            "Cost after iteration 3000: 0.244458\n",
            "Cost after iteration 3100: 0.236762\n",
            "Cost after iteration 3200: 0.229239\n",
            "Cost after iteration 3300: 0.221729\n",
            "Cost after iteration 3400: 0.214841\n",
            "Cost after iteration 3500: 0.208091\n",
            "Cost after iteration 3600: 0.202665\n",
            "Cost after iteration 3700: 0.196541\n",
            "Cost after iteration 3800: 0.190913\n",
            "Cost after iteration 3900: 0.185915\n",
            "Cost after iteration 4000: 0.180681\n",
            "Cost after iteration 4100: 0.175234\n",
            "Cost after iteration 4200: 0.170077\n",
            "Cost after iteration 4300: 0.164698\n",
            "Cost after iteration 4400: 0.159344\n",
            "Cost after iteration 4500: 0.154061\n",
            "Cost after iteration 4600: 0.148807\n",
            "Cost after iteration 4700: 0.143699\n",
            "Cost after iteration 4800: 0.139109\n",
            "Cost after iteration 4900: 0.134519\n",
            "Cost after iteration 5000: 0.130552\n",
            "Cost after iteration 5100: 0.126951\n",
            "Cost after iteration 5200: 0.123196\n",
            "Cost after iteration 5300: 0.120001\n",
            "Cost after iteration 5400: 0.116527\n",
            "Cost after iteration 5500: 0.113021\n",
            "Cost after iteration 5600: 0.109487\n",
            "Cost after iteration 5700: 0.106084\n",
            "Cost after iteration 5800: 0.102782\n",
            "Cost after iteration 5900: 0.099635\n",
            "Cost after iteration 6000: 0.096549\n",
            "Cost after iteration 6100: 0.093661\n",
            "Cost after iteration 6200: 0.091056\n",
            "Cost after iteration 6300: 0.088085\n",
            "Cost after iteration 6400: 0.085398\n",
            "Cost after iteration 6500: 0.082763\n",
            "Cost after iteration 6600: 0.079989\n",
            "Cost after iteration 6700: 0.077362\n",
            "Cost after iteration 6800: 0.074905\n",
            "Cost after iteration 6900: 0.072423\n",
            "Cost after iteration 7000: 0.069919\n",
            "Cost after iteration 7100: 0.067702\n",
            "Cost after iteration 7200: 0.065561\n",
            "Cost after iteration 7300: 0.063435\n",
            "Cost after iteration 7400: 0.061413\n",
            "Cost after iteration 7500: 0.059520\n",
            "Cost after iteration 7600: 0.057614\n",
            "Cost after iteration 7700: 0.055974\n",
            "Cost after iteration 7800: 0.054354\n",
            "Cost after iteration 7900: 0.052740\n",
            "Cost after iteration 8000: 0.051316\n",
            "Cost after iteration 8100: 0.049891\n",
            "Cost after iteration 8200: 0.048547\n",
            "Cost after iteration 8300: 0.047245\n",
            "Cost after iteration 8400: 0.045987\n",
            "Cost after iteration 8500: 0.044796\n",
            "Cost after iteration 8600: 0.043596\n",
            "Cost after iteration 8700: 0.042550\n",
            "Cost after iteration 8800: 0.041438\n",
            "Cost after iteration 8900: 0.040297\n",
            "Cost after iteration 9000: 0.039229\n",
            "Cost after iteration 9100: 0.038283\n",
            "Cost after iteration 9200: 0.037407\n",
            "Cost after iteration 9300: 0.036244\n",
            "Cost after iteration 9400: 0.035095\n",
            "Cost after iteration 9500: 0.033995\n",
            "Cost after iteration 9600: 0.032989\n",
            "Cost after iteration 9700: 0.031978\n",
            "Cost after iteration 9800: 0.031059\n",
            "Cost after iteration 9900: 0.030230\n",
            "Cost after iteration 10000: 0.029377\n",
            "Cost after iteration 10100: 0.028568\n",
            "Cost after iteration 10200: 0.027716\n",
            "Cost after iteration 10300: 0.026895\n",
            "Cost after iteration 10400: 0.026086\n",
            "Cost after iteration 10500: 0.025115\n",
            "Cost after iteration 10600: 0.024279\n",
            "Cost after iteration 10700: 0.023494\n",
            "Cost after iteration 10800: 0.022720\n",
            "Cost after iteration 10900: 0.022023\n",
            "Cost after iteration 11000: 0.021337\n",
            "Cost after iteration 11100: 0.020727\n",
            "Cost after iteration 11200: 0.020129\n",
            "Cost after iteration 11300: 0.019580\n",
            "Cost after iteration 11400: 0.019036\n",
            "Cost after iteration 11500: 0.018563\n",
            "Cost after iteration 11600: 0.018092\n",
            "Cost after iteration 11700: 0.017688\n",
            "Cost after iteration 11800: 0.017274\n",
            "Cost after iteration 11900: 0.016888\n",
            "Cost after iteration 12000: 0.016501\n",
            "Cost after iteration 12100: 0.016149\n",
            "Cost after iteration 12200: 0.015835\n",
            "Cost after iteration 12300: 0.015496\n",
            "Cost after iteration 12400: 0.015170\n",
            "Cost after iteration 12500: 0.014835\n",
            "Cost after iteration 12600: 0.014524\n",
            "Cost after iteration 12700: 0.014227\n",
            "Cost after iteration 12800: 0.013953\n",
            "Cost after iteration 12900: 0.013673\n",
            "Cost after iteration 13000: 0.013422\n",
            "Cost after iteration 13100: 0.013170\n",
            "Cost after iteration 13200: 0.012949\n",
            "Cost after iteration 13300: 0.012702\n",
            "Cost after iteration 13400: 0.012480\n",
            "Cost after iteration 13500: 0.012259\n",
            "Cost after iteration 13600: 0.012056\n",
            "Cost after iteration 13700: 0.011853\n",
            "Cost after iteration 13800: 0.011662\n",
            "Cost after iteration 13900: 0.011467\n",
            "Cost after iteration 14000: 0.011283\n",
            "Cost after iteration 14100: 0.011114\n",
            "Cost after iteration 14200: 0.010950\n",
            "Cost after iteration 14300: 0.010790\n",
            "Cost after iteration 14400: 0.010642\n",
            "Cost after iteration 14500: 0.010479\n",
            "Cost after iteration 14600: 0.010329\n",
            "Cost after iteration 14700: 0.010193\n",
            "Cost after iteration 14800: 0.010047\n",
            "Cost after iteration 14900: 0.009902\n",
            "Cost after iteration 15000: 0.009762\n",
            "Cost after iteration 15100: 0.009624\n",
            "Cost after iteration 15200: 0.009494\n",
            "Cost after iteration 15300: 0.009364\n",
            "Cost after iteration 15400: 0.009238\n",
            "Cost after iteration 15500: 0.009123\n",
            "Cost after iteration 15600: 0.009026\n",
            "Cost after iteration 15700: 0.008921\n",
            "Cost after iteration 15800: 0.008819\n",
            "Cost after iteration 15900: 0.008720\n",
            "Cost after iteration 16000: 0.008613\n",
            "Cost after iteration 16100: 0.008510\n",
            "Cost after iteration 16200: 0.008412\n",
            "Cost after iteration 16300: 0.008303\n",
            "Cost after iteration 16400: 0.008201\n",
            "Cost after iteration 16500: 0.008104\n",
            "Cost after iteration 16600: 0.008006\n",
            "Cost after iteration 16700: 0.007907\n",
            "Cost after iteration 16800: 0.007813\n",
            "Cost after iteration 16900: 0.007712\n",
            "Cost after iteration 17000: 0.007622\n",
            "Cost after iteration 17100: 0.007521\n",
            "Cost after iteration 17200: 0.007429\n",
            "Cost after iteration 17300: 0.007336\n",
            "Cost after iteration 17400: 0.007251\n",
            "Cost after iteration 17500: 0.007160\n",
            "Cost after iteration 17600: 0.007078\n",
            "Cost after iteration 17700: 0.006990\n",
            "Cost after iteration 17800: 0.006910\n",
            "Cost after iteration 17900: 0.006827\n",
            "Cost after iteration 18000: 0.006752\n",
            "Cost after iteration 18100: 0.006670\n",
            "Cost after iteration 18200: 0.006595\n",
            "Cost after iteration 18300: 0.006527\n",
            "Cost after iteration 18400: 0.006453\n",
            "Cost after iteration 18500: 0.006377\n",
            "Cost after iteration 18600: 0.006295\n",
            "Cost after iteration 18700: 0.006215\n",
            "Cost after iteration 18800: 0.006131\n",
            "Cost after iteration 18900: 0.006042\n",
            "Cost after iteration 19000: 0.005960\n",
            "Cost after iteration 19100: 0.005872\n",
            "Cost after iteration 19200: 0.005784\n",
            "Cost after iteration 19300: 0.005697\n",
            "Cost after iteration 19400: 0.005610\n",
            "Cost after iteration 19500: 0.005529\n",
            "Cost after iteration 19600: 0.005452\n",
            "Cost after iteration 19700: 0.005376\n",
            "Cost after iteration 19800: 0.005298\n",
            "Cost after iteration 19900: 0.005227\n"
          ],
          "name": "stdout"
        },
        {
          "output_type": "display_data",
          "data": {
            "image/png": "[encoded data removed]",
            "text/plain": [
              "<Figure size 432x288 with 1 Axes>"
            ]
          },
          "metadata": {
            "tags": []
          }
        },
        {
          "output_type": "stream",
          "text": [
            "Train Accuracy -->0.9999999999999998\n",
            "Testing Accuracy --->0.7000000000000001\n"
          ],
          "name": "stdout"
        }
      ]
    },
    {
      "cell_type": "code",
      "metadata": {
        "id": "9C-VWC02YXK6",
        "colab_type": "code",
        "outputId": "fe1706ad-beb0-4d75-fda5-414f26db812c",
        "colab": {
          "base_uri": "https://localhost:8080/",
          "height": 34
        }
      },
      "source": [
        "def predict(X,Y,parameters):\n",
        "  AL, caches = L_model_forward(parameters=parameters,X=X)\n",
        "  yhat= AL > 0.5\n",
        "  acc = np.sum((yhat == Y)/X.shape[1])\n",
        "  return AL,yhat,acc\n",
        "\n",
        "AL,yhat,acc = predict(test_x,test_y,parameters)\n",
        "acc"
      ],
      "execution_count": 0,
      "outputs": [
        {
          "output_type": "execute_result",
          "data": {
            "text/plain": [
              "0.7000000000000001"
            ]
          },
          "metadata": {
            "tags": []
          },
          "execution_count": 239
        }
      ]
    },
    {
      "cell_type": "code",
      "metadata": {
        "id": "MxD5z61Vt5iR",
        "colab_type": "code",
        "outputId": "69747544-7d4a-45b7-d12f-435457c6cfaa",
        "colab": {
          "base_uri": "https://localhost:8080/",
          "height": 51
        }
      },
      "source": [
        "# print(\"Train Accuracy -->{}\".format(predict(train_x,train_y,parameters)))\n",
        "# print(\"Testing Accuracy --->{}\".format(predict(test_x,test_y,parameters)))\n",
        "# print(test_y)\n",
        "# print(yhat.astype(int))\n",
        "yhat = yhat.astype(int)\n",
        "print(yhat[0][6])\n",
        "print(AL[0][6])"
      ],
      "execution_count": 0,
      "outputs": [
        {
          "output_type": "stream",
          "text": [
            "0\n",
            "0.2461497748298468\n"
          ],
          "name": "stdout"
        }
      ]
    },
    {
      "cell_type": "code",
      "metadata": {
        "id": "dihUY_H3d7nS",
        "colab_type": "code",
        "outputId": "252e05a1-4f93-4fcb-ce0e-92758c9d2984",
        "colab": {
          "base_uri": "https://localhost:8080/",
          "height": 320
        }
      },
      "source": [
        "# Example of a picture\n",
        "index = 1\n",
        "plt.imshow(test_x_orig[index])\n",
        "print (\"y = \" + str(test_y[0,index]) + \". It's a \" + classes_test[test_y[0,index]].decode(\"utf-8\") +  \" picture.\")\n",
        "print (\"yhat = \" + str(yhat[0,index]) + \". Predicted \" + classes_test[yhat[0,index]].decode(\"utf-8\") +  \" picture.\")\n",
        "print(\"Al --->\",AL[0][index])"
      ],
      "execution_count": 0,
      "outputs": [
        {
          "output_type": "stream",
          "text": [
            "y = 1. It's a cat picture.\n",
            "yhat = 0. Predicted non-cat picture.\n",
            "Al ---> 0.24621566828423902\n"
          ],
          "name": "stdout"
        },
        {
          "output_type": "display_data",
          "data": {
            "image/png": "[encoded data removed]",
            "text/plain": [
              "<Figure size 432x288 with 1 Axes>"
            ]
          },
          "metadata": {
            "tags": []
          }
        }
      ]
    },
    {
      "cell_type": "markdown",
      "metadata": {
        "id": "UGBM3pL-xj5S",
        "colab_type": "text"
      },
      "source": [
        "End Deep Neural Network"
      ]
    }
  ]
}