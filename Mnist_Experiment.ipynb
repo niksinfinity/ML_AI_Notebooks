{
  "nbformat": 4,
  "nbformat_minor": 0,
  "metadata": {
    "colab": {
      "name": "Mnist Experiment",
      "version": "0.3.2",
      "provenance": [],
      "collapsed_sections": [],
      "include_colab_link": true
    },
    "kernelspec": {
      "name": "python3",
      "display_name": "Python 3"
    },
    "accelerator": "GPU"
  },
  "cells": [
    {
      "cell_type": "markdown",
      "metadata": {
        "id": "view-in-github",
        "colab_type": "text"
      },
      "source": [
        "<a href=\"https://colab.research.google.com/github/niksinfinity/ML_AI_Notebooks/blob/master/Mnist_Experiment.ipynb\" target=\"_parent\"><img src=\"https://colab.research.google.com/assets/colab-badge.svg\" alt=\"Open In Colab\"/></a>"
      ]
    },
    {
      "cell_type": "code",
      "metadata": {
        "id": "ZOSIV591hChs",
        "colab_type": "code",
        "colab": {
          "base_uri": "https://localhost:8080/",
          "height": 119
        },
        "outputId": "a8ca6ef5-6ae0-411d-a894-55f481d1a43f"
      },
      "source": [
        "import pandas as pd\n",
        "import numpy as np\n",
        "from sklearn.linear_model import LogisticRegression\n",
        "from sklearn.model_selection import train_test_split\n",
        "import os\n",
        "os.listdir('./sample_data')"
      ],
      "execution_count": 1,
      "outputs": [
        {
          "output_type": "execute_result",
          "data": {
            "text/plain": [
              "['README.md',\n",
              " 'anscombe.json',\n",
              " 'mnist_train_small.csv',\n",
              " 'california_housing_test.csv',\n",
              " 'mnist_test.csv',\n",
              " 'california_housing_train.csv']"
            ]
          },
          "metadata": {
            "tags": []
          },
          "execution_count": 1
        }
      ]
    },
    {
      "cell_type": "markdown",
      "metadata": {
        "id": "SFe90Xk-5Grq",
        "colab_type": "text"
      },
      "source": [
        "\n",
        "\n",
        "---\n",
        "\n",
        "\n",
        "**PreProcessing**\n",
        "\n",
        "---\n",
        "\n"
      ]
    },
    {
      "cell_type": "code",
      "metadata": {
        "id": "f_Lvdr3ThQei",
        "colab_type": "code",
        "colab": {}
      },
      "source": [
        "train_data = pd.read_csv('./sample_data/mnist_train_small.csv')\n",
        "train_data.insert(0,'xo',1,True)\n",
        "test_data = pd.read_csv('./sample_data/mnist_test.csv')\n"
      ],
      "execution_count": 0,
      "outputs": []
    },
    {
      "cell_type": "code",
      "metadata": {
        "id": "Owb9pgNa5SGm",
        "colab_type": "code",
        "colab": {}
      },
      "source": [
        ""
      ],
      "execution_count": 0,
      "outputs": []
    },
    {
      "cell_type": "code",
      "metadata": {
        "id": "afviMGDvhilG",
        "colab_type": "code",
        "colab": {}
      },
      "source": [
        "y = train_data['6']\n",
        "x = train_data.loc[:,'0':]\n",
        "x_train , x_cross , y_train , y_cross = train_test_split(x,y,test_size=0.28)"
      ],
      "execution_count": 0,
      "outputs": []
    },
    {
      "cell_type": "code",
      "metadata": {
        "id": "UQ9AoFML5X_f",
        "colab_type": "code",
        "colab": {
          "base_uri": "https://localhost:8080/",
          "height": 204
        },
        "outputId": "e3bbd1da-0ef1-4511-b758-3a0c2afdec9b"
      },
      "source": [
        "y.value_counts()"
      ],
      "execution_count": 4,
      "outputs": [
        {
          "output_type": "execute_result",
          "data": {
            "text/plain": [
              "1    2243\n",
              "7    2126\n",
              "6    2038\n",
              "9    2023\n",
              "3    2021\n",
              "2    1989\n",
              "0    1962\n",
              "4    1924\n",
              "8    1912\n",
              "5    1761\n",
              "Name: 6, dtype: int64"
            ]
          },
          "metadata": {
            "tags": []
          },
          "execution_count": 4
        }
      ]
    },
    {
      "cell_type": "code",
      "metadata": {
        "id": "RUCzrAmwnETl",
        "colab_type": "code",
        "colab": {}
      },
      "source": [
        "# from sklearn.preprocessing import PolynomialFeatures\n",
        "# x_poly = PolynomialFeatures(degree=2,include_bias=False).fit_transform(x[:100])\n",
        "# test_poly = PolynomialFeatures(degree=2,include_bias=False).fit_transform(test_data.loc[:100,'0':])\n",
        "# # x_cross = PolynomialFeatures(degree=2,include_bias=False).fit_transform(x_cross)"
      ],
      "execution_count": 0,
      "outputs": []
    },
    {
      "cell_type": "markdown",
      "metadata": {
        "id": "nuS3Ccb321xO",
        "colab_type": "text"
      },
      "source": [
        "\n",
        "\n",
        "---\n",
        "\n",
        "\n",
        "**#Modelling Hypothesis**\n",
        "\n",
        "---\n",
        "\n"
      ]
    },
    {
      "cell_type": "code",
      "metadata": {
        "id": "BUet36kghkCb",
        "colab_type": "code",
        "colab": {}
      },
      "source": [
        "model = LogisticRegression(fit_intercept=False,solver='saga',multi_class='ovr',n_jobs=-1,C=3)\n",
        "#model.fit(x_train,y_train)"
      ],
      "execution_count": 0,
      "outputs": []
    },
    {
      "cell_type": "markdown",
      "metadata": {
        "id": "9gyTZn_d1cbB",
        "colab_type": "text"
      },
      "source": [
        "\n",
        "\n",
        "---\n",
        "\n",
        "\n",
        " **Learning Curve**\n",
        "\n",
        "---\n",
        "\n"
      ]
    },
    {
      "cell_type": "code",
      "metadata": {
        "id": "DKW8cFvNnBrr",
        "colab_type": "code",
        "colab": {}
      },
      "source": [
        "from yellowbrick.model_selection import LearningCurve\n",
        "from sklearn.model_selection import StratifiedKFold\n",
        "from yellowbrick.model_selection import LearningCurve\n",
        "\n",
        "\n",
        "cv = StratifiedKFold(10)\n",
        "sizes = np.linspace(0.3, 1.0, 10)\n",
        "\n",
        "viz = LearningCurve(\n",
        "    model, cv=cv, train_sizes=sizes,\n",
        "    scoring='f1_weighted',\n",
        ")\n",
        "\n",
        "viz.fit(x[:1000], y[:1000])\n",
        "viz.poof()"
      ],
      "execution_count": 0,
      "outputs": []
    },
    {
      "cell_type": "markdown",
      "metadata": {
        "id": "n7SFUp-EcwOh",
        "colab_type": "text"
      },
      "source": [
        "---\n",
        "**Evaluation** \n",
        "\n",
        "---\n"
      ]
    },
    {
      "cell_type": "code",
      "metadata": {
        "id": "D7oXRWWvS3dc",
        "colab_type": "code",
        "colab": {
          "base_uri": "https://localhost:8080/",
          "height": 34
        },
        "outputId": "417f9250-8cb9-4199-d897-5683e3ea46b1"
      },
      "source": [
        "test_x = test_data.loc[:,'0':]\n",
        "test_y= test_data.loc[:,'7']\n",
        "\n",
        "model = LogisticRegression(fit_intercept=False,solver='saga',multi_class='ovr',n_jobs=-1,C=3,max_iter=100,penalty='l2')\n",
        "model.fit(x,y)\n",
        "pred_y = model.predict(test_x)\n",
        "from sklearn.metrics import accuracy_score\n",
        "#91.23912391239124\n",
        "accuracy_score(test_y,pred_y)*100"
      ],
      "execution_count": 9,
      "outputs": [
        {
          "output_type": "execute_result",
          "data": {
            "text/plain": [
              "91.23912391239124"
            ]
          },
          "metadata": {
            "tags": []
          },
          "execution_count": 9
        }
      ]
    },
    {
      "cell_type": "markdown",
      "metadata": {
        "id": "qLxtTv8P_0Fj",
        "colab_type": "text"
      },
      "source": [
        "\n",
        "\n",
        "---\n",
        "\n",
        "\n",
        "**Visualising**\n",
        "\n",
        "---\n",
        "\n"
      ]
    },
    {
      "cell_type": "code",
      "metadata": {
        "id": "RRtxPuG7O5Sn",
        "colab_type": "code",
        "colab": {}
      },
      "source": [
        "##PCA\n",
        "from sklearn.decomposition import PCA\n",
        "pca = PCA(n_components=3)\n",
        "# pca_x = pca.fit_transform(x)\n",
        "#pca_test = pca.fit_transform(test_x)"
      ],
      "execution_count": 0,
      "outputs": []
    },
    {
      "cell_type": "code",
      "metadata": {
        "id": "2Y0qHEIJ_58g",
        "colab_type": "code",
        "colab": {}
      },
      "source": [
        "##t-sne\n",
        "from sklearn.manifold import TSNE\n",
        "x_embedded = TSNE(n_components=3).fit_transform(x)"
      ],
      "execution_count": 0,
      "outputs": []
    },
    {
      "cell_type": "code",
      "metadata": {
        "id": "X3CUlkHsM3kM",
        "colab_type": "code",
        "colab": {
          "base_uri": "https://localhost:8080/",
          "height": 265
        },
        "outputId": "192948c3-8f79-450f-d082-d0b0186a463c"
      },
      "source": [
        "from mpl_toolkits import mplot3d\n",
        "%matplotlib inline\n",
        "import numpy as np\n",
        "import matplotlib.pyplot as plt\n",
        "fig = plt.figure()\n",
        "ax = plt.axes(projection='3d')\n",
        "vis_x = x_embedded[:,0]\n",
        "vis_y = x_embedded[:,1]\n",
        "vis_z = x_embedded[:,2]\n",
        "ax.scatter3D(vis_x,vis_y,c=vis_z, cmap='viridis');\n",
        "x_embedded[:,1].shape"
      ],
      "execution_count": 64,
      "outputs": [
        {
          "output_type": "execute_result",
          "data": {
            "text/plain": [
              "(19999,)"
            ]
          },
          "metadata": {
            "tags": []
          },
          "execution_count": 64
        },
        {
          "output_type": "display_data",
          "data": {
            "image/png": "[encoded data removed]",
            "text/plain": [
              "<Figure size 432x288 with 1 Axes>"
            ]
          },
          "metadata": {
            "tags": []
          }
        }
      ]
    }
  ]
}