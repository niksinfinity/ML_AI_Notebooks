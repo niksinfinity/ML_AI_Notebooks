{
  "nbformat": 4,
  "nbformat_minor": 0,
  "metadata": {
    "colab": {
      "name": "Mnist Experiment",
      "version": "0.3.2",
      "provenance": [],
      "collapsed_sections": [],
      "include_colab_link": true
    },
    "kernelspec": {
      "name": "python3",
      "display_name": "Python 3"
    },
    "accelerator": "GPU"
  },
  "cells": [
    {
      "cell_type": "markdown",
      "metadata": {
        "id": "view-in-github",
        "colab_type": "text"
      },
      "source": [
        "<a href=\"https://colab.research.google.com/github/niksinfinity/ML_AI_Notebooks/blob/master/Mnist_Experiment.ipynb\" target=\"_parent\"><img src=\"https://colab.research.google.com/assets/colab-badge.svg\" alt=\"Open In Colab\"/></a>"
      ]
    },
    {
      "cell_type": "code",
      "metadata": {
        "id": "ZOSIV591hChs",
        "colab_type": "code",
        "colab": {}
      },
      "source": [
        "import pandas as pd\n",
        "import numpy as np\n",
        "from sklearn.linear_model import LogisticRegression\n",
        "from sklearn.model_selection import train_test_split\n",
        "import os\n",
        "os.listdir('./sample_data')"
      ],
      "execution_count": 0,
      "outputs": []
    },
    {
      "cell_type": "code",
      "metadata": {
        "id": "f_Lvdr3ThQei",
        "colab_type": "code",
        "colab": {}
      },
      "source": [
        "train_data = pd.read_csv('./sample_data/mnist_train_small.csv')\n",
        "train_data.insert(0,'xo',1,True)\n",
        "test_data = pd.read_csv('./sample_data/mnist_test.csv')\n"
      ],
      "execution_count": 0,
      "outputs": []
    },
    {
      "cell_type": "code",
      "metadata": {
        "id": "afviMGDvhilG",
        "colab_type": "code",
        "colab": {}
      },
      "source": [
        "y = train_data['6']\n",
        "x = train_data.loc[:,'0':]\n",
        "x_train , x_cross , y_train , y_cross = train_test_split(x,y,test_size=0.28)"
      ],
      "execution_count": 0,
      "outputs": []
    },
    {
      "cell_type": "code",
      "metadata": {
        "id": "RUCzrAmwnETl",
        "colab_type": "code",
        "colab": {}
      },
      "source": [
        "# from sklearn.preprocessing import PolynomialFeatures\n",
        "# x_poly = PolynomialFeatures(degree=2,include_bias=False).fit_transform(x[:100])\n",
        "# test_poly = PolynomialFeatures(degree=2,include_bias=False).fit_transform(test_data.loc[:100,'0':])\n",
        "# # x_cross = PolynomialFeatures(degree=2,include_bias=False).fit_transform(x_cross)"
      ],
      "execution_count": 0,
      "outputs": []
    },
    {
      "cell_type": "markdown",
      "metadata": {
        "id": "nuS3Ccb321xO",
        "colab_type": "text"
      },
      "source": [
        "\n",
        "\n",
        "---\n",
        "\n",
        "\n",
        "**#Modelling Hypothesis**\n",
        "\n",
        "---\n",
        "\n"
      ]
    },
    {
      "cell_type": "code",
      "metadata": {
        "id": "BUet36kghkCb",
        "colab_type": "code",
        "colab": {}
      },
      "source": [
        "model = LogisticRegression(fit_intercept=False,solver='saga',multi_class='ovr',n_jobs=-1,C=3)\n",
        "#model.fit(x_train,y_train)"
      ],
      "execution_count": 0,
      "outputs": []
    },
    {
      "cell_type": "markdown",
      "metadata": {
        "id": "9gyTZn_d1cbB",
        "colab_type": "text"
      },
      "source": [
        "\n",
        "\n",
        "---\n",
        "\n",
        "\n",
        " **Learning Curve**\n",
        "\n",
        "---\n",
        "\n"
      ]
    },
    {
      "cell_type": "code",
      "metadata": {
        "id": "DKW8cFvNnBrr",
        "colab_type": "code",
        "colab": {}
      },
      "source": [
        "# from yellowbrick.model_selection import LearningCurve\n",
        "# from sklearn.model_selection import StratifiedKFold\n",
        "# from yellowbrick.model_selection import LearningCurve\n",
        "\n",
        "\n",
        "# cv = StratifiedKFold(10)\n",
        "# sizes = np.linspace(0.3, 1.0, 10)\n",
        "\n",
        "# viz = LearningCurve(\n",
        "#     model, cv=cv, train_sizes=sizes,\n",
        "#     scoring='f1_weighted',\n",
        "# )\n",
        "\n",
        "# viz.fit(x[:1000], y[:1000])\n",
        "# viz.poof()"
      ],
      "execution_count": 0,
      "outputs": []
    },
    {
      "cell_type": "markdown",
      "metadata": {
        "id": "n7SFUp-EcwOh",
        "colab_type": "text"
      },
      "source": [
        "---\n",
        "**Evaluation** \n",
        "\n",
        "---\n"
      ]
    },
    {
      "cell_type": "code",
      "metadata": {
        "id": "D7oXRWWvS3dc",
        "colab_type": "code",
        "colab": {}
      },
      "source": [
        "test_x = test_data.loc[:,'0':]\n",
        "test_y= test_data.loc[:,'7']\n",
        "\n",
        "model = LogisticRegression(fit_intercept=False,solver='saga',multi_class='ovr',n_jobs=-1,C=3,max_iter=200,penalty='l2')\n",
        "model.fit(x,y)\n",
        "pred_y = model.predict(test_x)\n",
        "from sklearn.metrics import accuracy_score\n",
        "accuracy_score(test_y,pred_y)*100\n",
        "#91.13911391139114"
      ],
      "execution_count": 0,
      "outputs": []
    }
  ]
}