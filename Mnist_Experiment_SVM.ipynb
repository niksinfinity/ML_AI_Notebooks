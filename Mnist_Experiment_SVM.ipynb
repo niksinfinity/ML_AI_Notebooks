{
  "nbformat": 4,
  "nbformat_minor": 0,
  "metadata": {
    "colab": {
      "name": "Mnist Experiment SVM.ipynb",
      "version": "0.3.2",
      "provenance": [],
      "collapsed_sections": [],
      "include_colab_link": true
    },
    "kernelspec": {
      "name": "python3",
      "display_name": "Python 3"
    },
    "accelerator": "GPU"
  },
  "cells": [
    {
      "cell_type": "markdown",
      "metadata": {
        "id": "view-in-github",
        "colab_type": "text"
      },
      "source": [
        "<a href=\"https://colab.research.google.com/github/niksinfinity/ML_AI_Notebooks/blob/master/Mnist_Experiment_SVM.ipynb\" target=\"_parent\"><img src=\"https://colab.research.google.com/assets/colab-badge.svg\" alt=\"Open In Colab\"/></a>"
      ]
    },
    {
      "cell_type": "code",
      "metadata": {
        "id": "tPL57-QcrBRw",
        "colab_type": "code",
        "colab": {}
      },
      "source": [
        "import pandas as pd\n",
        "import numpy as np\n",
        "from sklearn.svm import LinearSVC\n",
        "from sklearn.svm import SVC\n",
        "from sklearn.model_selection import train_test_split\n",
        "from yellowbrick.model_selection import LearningCurve\n",
        "from sklearn.model_selection import StratifiedKFold\n",
        "from yellowbrick.model_selection import LearningCurve\n"
      ],
      "execution_count": 0,
      "outputs": []
    },
    {
      "cell_type": "code",
      "metadata": {
        "id": "mMZnwLd7rO-7",
        "colab_type": "code",
        "colab": {}
      },
      "source": [
        "train_data = pd.read_csv('./sample_data/mnist_train_small.csv')\n",
        "train_data.insert(0,'xo',1,True)\n",
        "test_data = pd.read_csv('./sample_data/mnist_test.csv')"
      ],
      "execution_count": 0,
      "outputs": []
    },
    {
      "cell_type": "code",
      "metadata": {
        "id": "3n0dOBj-rRBC",
        "colab_type": "code",
        "colab": {}
      },
      "source": [
        "y = train_data['6']\n",
        "x = train_data.loc[:,'0':]\n",
        "x_test = test_data.loc[:,'0':]\n",
        "y_test = test_data.loc[:,'7']\n",
        "\n",
        "x_train , x_cross , y_train , y_cross = train_test_split(x,y,test_size=0.28)\n",
        "x_train , x_cross , y_train , y_cross ,x_test ,y_test = list(map(lambda x : np.array(x),[x_train , x_cross , y_train , y_cross,x_test,y_test]))\n"
      ],
      "execution_count": 0,
      "outputs": []
    },
    {
      "cell_type": "markdown",
      "metadata": {
        "id": "LRlCwo_isq1I",
        "colab_type": "text"
      },
      "source": [
        "---\n",
        "**FeatureScaling**\n",
        "\n",
        "---\n",
        "\n",
        "\n"
      ]
    },
    {
      "cell_type": "code",
      "metadata": {
        "id": "y5uy3BUPspdL",
        "colab_type": "code",
        "colab": {}
      },
      "source": [
        "from sklearn.preprocessing import normalize\n",
        "x_train,x_cross,x_test = list(map(lambda x:normalize(x,norm='l2',axis=0,copy=False),[x_train,x_cross,x_test]))"
      ],
      "execution_count": 0,
      "outputs": []
    },
    {
      "cell_type": "markdown",
      "metadata": {
        "id": "vzT_kmk2vlJj",
        "colab_type": "text"
      },
      "source": [
        "---\n",
        "**Hypothesis**\n",
        "\n",
        "---\n",
        "\n",
        "\n",
        "\n"
      ]
    },
    {
      "cell_type": "code",
      "metadata": {
        "id": "z23CwjRYvjos",
        "colab_type": "code",
        "colab": {}
      },
      "source": [
        "model = LinearSVC(penalty='l2',C=80,multi_class='ovr',max_iter=10000)\n",
        "model = SVC(kernel='poly', degree=3, gamma='auto', C=80,decision_function_shape='ovr')"
      ],
      "execution_count": 0,
      "outputs": []
    },
    {
      "cell_type": "markdown",
      "metadata": {
        "id": "roMNabW6vy_i",
        "colab_type": "text"
      },
      "source": [
        "---\n",
        "**Learning Curve**\n",
        "\n",
        "---\n"
      ]
    },
    {
      "cell_type": "code",
      "metadata": {
        "id": "OWBQTRkovauO",
        "colab_type": "code",
        "colab": {}
      },
      "source": [
        "\n",
        "\n",
        "cv = StratifiedKFold(10)\n",
        "sizes = np.linspace(0.3, 1.0, 10)\n",
        "\n",
        "viz = LearningCurve(\n",
        "    model, cv=cv, train_sizes=sizes,\n",
        "    scoring='f1_weighted',\n",
        ")\n",
        "\n",
        "viz.fit(x_train, y_train)\n",
        "viz.poof()"
      ],
      "execution_count": 0,
      "outputs": []
    },
    {
      "cell_type": "markdown",
      "metadata": {
        "id": "Og_H1Jz69lKC",
        "colab_type": "text"
      },
      "source": [
        "\n",
        "\n",
        "---\n",
        "\n",
        "**Grid Search**\n",
        "\n",
        "---\n",
        "\n"
      ]
    },
    {
      "cell_type": "code",
      "metadata": {
        "id": "upanuGCW9xqp",
        "colab_type": "code",
        "colab": {
          "base_uri": "https://localhost:8080/",
          "height": 163
        },
        "outputId": "50e40cf4-3302-4113-8d9d-9a1f73526600"
      },
      "source": [
        "from sklearn.model_selection import GridSearchCV\n",
        "Cs = [0.001, 0.01, 0.1, 1, 10]\n",
        "cv = StratifiedKFold(10)\n",
        "gammas = [0.001, 0.01, 0.1, 1]\n",
        "param_grid = {'C': Cs, 'gamma' : gammas}\n",
        "grid_search = GridSearchCV(SVC(decision_function_shape='ovr',kernel='rbf'), param_grid, cv=cv)\n",
        "grid_search.fit(x_train[:2000], y_train[:2000])\n",
        "grid_search.best_params_\n",
        "grid_search.score"
      ],
      "execution_count": 1,
      "outputs": [
        {
          "output_type": "error",
          "ename": "NameError",
          "evalue": "ignored",
          "traceback": [
            "\u001b[0;31m---------------------------------------------------------------------------\u001b[0m",
            "\u001b[0;31mNameError\u001b[0m                                 Traceback (most recent call last)",
            "\u001b[0;32m<ipython-input-1-24702046e2ff>\u001b[0m in \u001b[0;36m<module>\u001b[0;34m()\u001b[0m\n\u001b[0;32m----> 1\u001b[0;31m \u001b[0mgrid_search\u001b[0m\u001b[0;34m.\u001b[0m\u001b[0mscore\u001b[0m\u001b[0;34m\u001b[0m\u001b[0;34m\u001b[0m\u001b[0m\n\u001b[0m",
            "\u001b[0;31mNameError\u001b[0m: name 'grid_search' is not defined"
          ]
        }
      ]
    },
    {
      "cell_type": "markdown",
      "metadata": {
        "id": "vCapONpbI4oS",
        "colab_type": "text"
      },
      "source": [
        "\n",
        "\n",
        "---\n",
        "\n",
        "\n",
        "**Validation**\n",
        "\n",
        "---\n",
        "\n"
      ]
    },
    {
      "cell_type": "code",
      "metadata": {
        "id": "TOc0Eat5I5rX",
        "colab_type": "code",
        "colab": {
          "base_uri": "https://localhost:8080/",
          "height": 34
        },
        "outputId": "d97a0e04-c99f-4aaa-9df3-ce2e739093d9"
      },
      "source": [
        "# model = LinearSVC(penalty='l2',C=80,multi_class='ovr',max_iter=10000)\n",
        "model = SVC(kernel='rbf', gamma='auto', C=80,decision_function_shape='ovr')\n",
        "model.fit(x_train,y_train)\n",
        "pred_y = model.predict(x_test)\n",
        "from sklearn.metrics import accuracy_score\n",
        "#91.23912391239124 LogistocReg\n",
        "accuracy_score(y_test,pred_y)*100"
      ],
      "execution_count": 11,
      "outputs": [
        {
          "output_type": "execute_result",
          "data": {
            "text/plain": [
              "12.79127912791279"
            ]
          },
          "metadata": {
            "tags": []
          },
          "execution_count": 11
        }
      ]
    },
    {
      "cell_type": "code",
      "metadata": {
        "id": "nR-AYO5rr3Th",
        "colab_type": "code",
        "colab": {
          "base_uri": "https://localhost:8080/",
          "height": 34
        },
        "outputId": "fa2cc92f-4013-438f-ac6d-b468228f048b"
      },
      "source": [
        ""
      ],
      "execution_count": 1,
      "outputs": [
        {
          "output_type": "stream",
          "text": [
            "Found GPU at: /device:GPU:0\n"
          ],
          "name": "stdout"
        }
      ]
    }
  ]
}